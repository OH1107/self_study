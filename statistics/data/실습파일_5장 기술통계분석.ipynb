{
 "cells": [
  {
   "cell_type": "markdown",
   "metadata": {},
   "source": [
    "# 5장 기술통계분석\n",
    "\n",
    "## 5.1 평균, 분산, 표준편차"
   ]
  },
  {
   "cell_type": "code",
   "execution_count": 1,
   "metadata": {},
   "outputs": [
    {
     "name": "stdout",
     "output_type": "stream",
     "text": [
      "    할인권_사용 횟수\n",
      "성별           \n",
      "0   15.986577\n",
      "1   16.034078\n",
      "    할인권_사용 횟수\n",
      "성별           \n",
      "0   69.053873\n",
      "1   69.750602\n",
      "    할인권_사용 횟수\n",
      "성별           \n",
      "0    8.309866\n",
      "1    8.351683\n"
     ]
    }
   ],
   "source": [
    "#1. 모듈 및 데이터 탑재\n",
    "import pandas as pd\n",
    "df = pd.read_csv('Ashopping.csv',sep=',', encoding='CP949')\n",
    "df_1 = df[['할인권_사용 횟수','성별']]\n",
    "\n",
    "#2. 성별 평균, 분산, 표준편차 구하기\n",
    "print(df_1.groupby('성별').mean())\n",
    "print(df_1.groupby('성별').var())\n",
    "print(df_1.groupby('성별').std())"
   ]
  },
  {
   "cell_type": "markdown",
   "metadata": {},
   "source": [
    "## 5.2 왜도와 첨도"
   ]
  },
  {
   "cell_type": "code",
   "execution_count": 2,
   "metadata": {},
   "outputs": [
    {
     "name": "stdout",
     "output_type": "stream",
     "text": [
      "-0.9706614720587393\n",
      "1.1478245800949547\n"
     ]
    },
    {
     "data": {
      "text/plain": [
       "<matplotlib.axes._subplots.AxesSubplot at 0x1f79d6483c8>"
      ]
     },
     "execution_count": 2,
     "metadata": {},
     "output_type": "execute_result"
    },
    {
     "data": {
      "image/png": "[encoded data removed]",
      "text/plain": [
       "<Figure size 432x288 with 1 Axes>"
      ]
     },
     "metadata": {
      "needs_background": "light"
     },
     "output_type": "display_data"
    }
   ],
   "source": [
    "#1. 모듈 및 데이터 탑재\n",
    "import pandas as pd\n",
    "df = pd.read_csv('Ashopping.csv', sep=',', encoding='CP949')\n",
    "\n",
    "#2. 왜도와 첨도 출력하기\n",
    "print(df.서비스_만족도.skew())\n",
    "print(df.서비스_만족도.kurt())\n",
    "\n",
    "#3. 히스토그램 그리기\n",
    "%matplotlib inline\n",
    "df.서비스_만족도.hist(bins=7)"
   ]
  },
  {
   "cell_type": "markdown",
   "metadata": {},
   "source": [
    "## 5.3 기타 기술통계량"
   ]
  },
  {
   "cell_type": "code",
   "execution_count": 3,
   "metadata": {},
   "outputs": [
    {
     "name": "stdout",
     "output_type": "stream",
     "text": [
      "9.0\n",
      "17.0\n",
      "23.0\n",
      "30.0\n",
      "최빈값: 22\n",
      "기술통계량:\n",
      " count    1000.000000\n",
      "mean       16.027000\n",
      "std         8.341334\n",
      "min         1.000000\n",
      "25%         9.000000\n",
      "50%        17.000000\n",
      "75%        23.000000\n",
      "max        30.000000\n",
      "Name: 할인권_사용 횟수, dtype: float64\n"
     ]
    }
   ],
   "source": [
    "#1. 모듈 및 데이터 탑재\n",
    "import pandas as pd\n",
    "import numpy as np\n",
    "df = pd.read_csv('Ashopping.csv', sep=',', encoding='CP949')\n",
    "\n",
    "#2. 4분위수 구하기\n",
    "print(np.percentile(df['할인권_사용 횟수'], 25))\n",
    "print(np.percentile(df['할인권_사용 횟수'], 50))\n",
    "print(np.percentile(df['할인권_사용 횟수'], 75))\n",
    "print(np.percentile(df['할인권_사용 횟수'], 100))\n",
    "\n",
    "#3. 최빈값 출력\n",
    "print('최빈값:', df['할인권_사용 횟수'].value_counts().idxmax())\n",
    "\n",
    "#4. 기술통계량 출력\n",
    "print('기술통계량:\\n', df['할인권_사용 횟수'].describe())"
   ]
  },
  {
   "cell_type": "code",
   "execution_count": null,
   "metadata": {},
   "outputs": [],
   "source": []
  }
 ],
 "metadata": {
  "kernelspec": {
   "display_name": "Python 3",
   "language": "python",
   "name": "python3"
  },
  "language_info": {
   "codemirror_mode": {
    "name": "ipython",
    "version": 3
   },
   "file_extension": ".py",
   "mimetype": "text/x-python",
   "name": "python",
   "nbconvert_exporter": "python",
   "pygments_lexer": "ipython3",
   "version": "3.7.4"
  }
 },
 "nbformat": 4,
 "nbformat_minor": 2
}
