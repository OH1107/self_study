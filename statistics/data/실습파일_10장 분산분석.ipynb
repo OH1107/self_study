{
 "cells": [
  {
   "attachments": {
    "image.png": {
     "image/png": "[encoded data removed]"
    }
   },
   "cell_type": "markdown",
   "metadata": {},
   "source": [
    "# 10장 분산분석\n",
    "\n",
    "## 10.2 일원분산분석\n",
    "### 분석 시나리오\n",
    "\n",
    "A쇼핑 고객들의 구매유형별 총 매출액의 차이가 있는지를 일원분산분석을 통해 검정해 보고자 한다. A쇼핑에서 관리하는 고객들의 구매유형과 고객 수는 다음과 같다.\n",
    "![image.png](attachment:image.png)\n",
    "이를 위한 가설은 다음과 같다. \n",
    "\n",
    "#### H0 (귀무가설)= A쇼핑 고객의 구매유형에 따른 총 매출액의 차이는 없다.\n",
    "#### H1 (연구가설)= A쇼핑 고객은 적어도 1개의 구매유형이 다른 구매유형과 총 매출액 차이가 존재한다."
   ]
  },
  {
   "cell_type": "code",
   "execution_count": 1,
   "metadata": {},
   "outputs": [
    {
     "data": {
      "text/plain": [
       "LeveneResult(statistic=61.83834278363635, pvalue=1.1483869977419955e-36)"
      ]
     },
     "execution_count": 1,
     "metadata": {},
     "output_type": "execute_result"
    }
   ],
   "source": [
    "#1. 모듈 및 데이터 탑재\n",
    "import pandas as pd\n",
    "import scipy as sp\n",
    "import numpy as np\n",
    "import pingouin as pg\n",
    "import scikit_posthocs\n",
    "df = pd.read_csv('Ashopping.csv',sep=',', encoding='CP949')\n",
    "df1=df[['구매유형','총_매출액']]\n",
    "pd.options.display.float_format = '{:.3f}'.format\n",
    "#2. 등분산 검정\n",
    "구매유형 = [ ]\n",
    "for i in range(1,5,1):\n",
    "    구매유형.append(df1[df1.구매유형==i].총_매출액)\n",
    "sp.stats.levene(구매유형[0],구매유형[1], 구매유형[2], 구매유형[3])"
   ]
  },
  {
   "cell_type": "code",
   "execution_count": 2,
   "metadata": {},
   "outputs": [
    {
     "name": "stdout",
     "output_type": "stream",
     "text": [
      "  Source  ddof1   ddof2      F  p-unc\n",
      "0   구매유형      3 230.936 88.238  0.000\n",
      "       1      2      3      4\n",
      "1 -1.000  0.000  0.000  0.805\n",
      "2  0.000 -1.000  0.008  0.000\n",
      "3  0.000  0.008 -1.000  0.000\n",
      "4  0.805  0.000  0.000 -1.000\n",
      "3403682.3255813955 9612645.078864353 11779839.652777778 4392794.395161291\n"
     ]
    },
    {
     "name": "stderr",
     "output_type": "stream",
     "text": [
      "C:\\ProgramData\\Anaconda3\\lib\\site-packages\\ipykernel_launcher.py:5: SettingWithCopyWarning: \n",
      "A value is trying to be set on a copy of a slice from a DataFrame.\n",
      "Try using .loc[row_indexer,col_indexer] = value instead\n",
      "\n",
      "See the caveats in the documentation: http://pandas.pydata.org/pandas-docs/stable/user_guide/indexing.html#returning-a-view-versus-a-copy\n",
      "  \"\"\"\n"
     ]
    }
   ],
   "source": [
    "#1. Welch 일원분산분석 \n",
    "print(pg.welch_anova(dv='총_매출액', between='구매유형', data=df1))\n",
    "\n",
    "#2. 사후분석\n",
    "df1['구매유형']=df1['구매유형'].astype(str)\n",
    "print(scikit_posthocs.posthoc_scheffe(df1, val_col='총_매출액', group_col='구매유형'))\n",
    "\n",
    "#3. 구매유형별 평균 총매출액\n",
    "print(구매유형[0].mean(),구매유형[1].mean(),구매유형[2].mean(),구매유형[3].mean())"
   ]
  },
  {
   "cell_type": "markdown",
   "metadata": {},
   "source": [
    "## 10.3 이원분산분석\n",
    "### 분석 시나리오\n",
    "\n",
    "이번에는 구매유형과 거주지역에 따라 고객들의 총 매출액이 다른지 검정해 보자 한다. 이원분산분석의 가설은 제1 독립변수의 효과, 제2 독립변수의 효과, 그리고 상호작용 효과에 대해 논하는 가설로 분리하여 설정하는 것이 바람직하다.\n",
    "\n",
    "### ① 구매유형에 따른 매출액 차이 가설\n",
    "#### H0 (귀무가설)= 구매유형에 따른 총 매출액의 차이는 없다.\n",
    "#### H1 (연구가설)= 적어도 1개의 구매유형이 다른 구매유형과 총 매출액 차이가 존재한다.\n",
    "\n",
    "### ② 거주지역에 따른 매출액 차이 가설\n",
    "#### H0 (귀무가설)= 거주지역에 따른 총 매출액의 차이는 없다.\n",
    "#### H1 (연구가설)= 적어도 1개의 거주지역이 다른 거주지역과 총 매출액 차이가 존재한다.\n",
    "\n",
    "### ③ 독립변수간 상호작용에 대한 가설\n",
    "#### H0 (귀무가설)= 구매유형과 거주지역의 상호작용 효과는 없다.\n",
    "#### H1 (연구가설)= 구매유형과 거주지역의 상호작용 효과가 있다.\n"
   ]
  },
  {
   "cell_type": "code",
   "execution_count": 3,
   "metadata": {},
   "outputs": [
    {
     "name": "stdout",
     "output_type": "stream",
     "text": [
      "        Source                    SS      DF                   MS      F  \\\n",
      "0         구매유형  6223216931461960.000   3.000 2074405643820653.250 63.079   \n",
      "1         거주지역 16140405705054362.000   6.000 2690067617509060.500 81.801   \n",
      "2  구매유형 * 거주지역  3867936213048852.000  18.000  214885345169380.688  6.534   \n",
      "3     Residual 32096439113329668.000 976.000   32885695812837.773    nan   \n",
      "\n",
      "   p-unc   np2  \n",
      "0  0.000 0.162  \n",
      "1  0.000 0.335  \n",
      "2  0.000 0.108  \n",
      "3    nan   nan  \n",
      "       1      2      3      4\n",
      "1 -1.000  0.000  0.000  0.805\n",
      "2  0.000 -1.000  0.008  0.000\n",
      "3  0.000  0.008 -1.000  0.000\n",
      "4  0.805  0.000  0.000 -1.000\n",
      "       1      2      3      4      5      6      7\n",
      "1 -1.000  1.000  1.000  1.000  1.000  0.988  0.412\n",
      "2  1.000 -1.000  1.000  0.980  0.965  0.339  0.000\n",
      "3  1.000  1.000 -1.000  0.978  0.935  0.019  0.000\n",
      "4  1.000  0.980  0.978 -1.000  1.000  0.008  0.000\n",
      "5  1.000  0.965  0.935  1.000 -1.000  0.002  0.000\n",
      "6  0.988  0.339  0.019  0.008  0.002 -1.000  0.000\n",
      "7  0.412  0.000  0.000  0.000  0.000  0.000 -1.000\n"
     ]
    },
    {
     "name": "stderr",
     "output_type": "stream",
     "text": [
      "C:\\ProgramData\\Anaconda3\\lib\\site-packages\\ipykernel_launcher.py:15: SettingWithCopyWarning: \n",
      "A value is trying to be set on a copy of a slice from a DataFrame.\n",
      "Try using .loc[row_indexer,col_indexer] = value instead\n",
      "\n",
      "See the caveats in the documentation: http://pandas.pydata.org/pandas-docs/stable/user_guide/indexing.html#returning-a-view-versus-a-copy\n",
      "  from ipykernel import kernelapp as app\n",
      "C:\\ProgramData\\Anaconda3\\lib\\site-packages\\ipykernel_launcher.py:16: SettingWithCopyWarning: \n",
      "A value is trying to be set on a copy of a slice from a DataFrame.\n",
      "Try using .loc[row_indexer,col_indexer] = value instead\n",
      "\n",
      "See the caveats in the documentation: http://pandas.pydata.org/pandas-docs/stable/user_guide/indexing.html#returning-a-view-versus-a-copy\n",
      "  app.launch_new_instance()\n"
     ]
    },
    {
     "data": {
      "text/html": [
       "<div>\n",
       "<style scoped>\n",
       "    .dataframe tbody tr th:only-of-type {\n",
       "        vertical-align: middle;\n",
       "    }\n",
       "\n",
       "    .dataframe tbody tr th {\n",
       "        vertical-align: top;\n",
       "    }\n",
       "\n",
       "    .dataframe thead th {\n",
       "        text-align: right;\n",
       "    }\n",
       "</style>\n",
       "<table border=\"1\" class=\"dataframe\">\n",
       "  <thead>\n",
       "    <tr style=\"text-align: right;\">\n",
       "      <th>거주지역</th>\n",
       "      <th>1</th>\n",
       "      <th>2</th>\n",
       "      <th>3</th>\n",
       "      <th>4</th>\n",
       "      <th>5</th>\n",
       "      <th>6</th>\n",
       "      <th>7</th>\n",
       "    </tr>\n",
       "    <tr>\n",
       "      <th>구매유형</th>\n",
       "      <th></th>\n",
       "      <th></th>\n",
       "      <th></th>\n",
       "      <th></th>\n",
       "      <th></th>\n",
       "      <th></th>\n",
       "      <th></th>\n",
       "    </tr>\n",
       "  </thead>\n",
       "  <tbody>\n",
       "    <tr>\n",
       "      <td>1</td>\n",
       "      <td>nan</td>\n",
       "      <td>3281350.000</td>\n",
       "      <td>3002825.000</td>\n",
       "      <td>3041428.182</td>\n",
       "      <td>3637031.667</td>\n",
       "      <td>3712146.667</td>\n",
       "      <td>3864880.000</td>\n",
       "    </tr>\n",
       "    <tr>\n",
       "      <td>2</td>\n",
       "      <td>nan</td>\n",
       "      <td>nan</td>\n",
       "      <td>4215648.571</td>\n",
       "      <td>8278686.562</td>\n",
       "      <td>6590330.674</td>\n",
       "      <td>10226770.763</td>\n",
       "      <td>13513839.437</td>\n",
       "    </tr>\n",
       "    <tr>\n",
       "      <td>3</td>\n",
       "      <td>4906400.000</td>\n",
       "      <td>3215055.000</td>\n",
       "      <td>6809777.143</td>\n",
       "      <td>7965439.677</td>\n",
       "      <td>11046081.250</td>\n",
       "      <td>13768678.750</td>\n",
       "      <td>25451441.176</td>\n",
       "    </tr>\n",
       "    <tr>\n",
       "      <td>4</td>\n",
       "      <td>nan</td>\n",
       "      <td>4034175.556</td>\n",
       "      <td>3720989.697</td>\n",
       "      <td>4229915.000</td>\n",
       "      <td>4272964.468</td>\n",
       "      <td>4749139.200</td>\n",
       "      <td>5138468.276</td>\n",
       "    </tr>\n",
       "  </tbody>\n",
       "</table>\n",
       "</div>"
      ],
      "text/plain": [
       "거주지역           1           2           3           4            5  \\\n",
       "구매유형                                                                \n",
       "1            nan 3281350.000 3002825.000 3041428.182  3637031.667   \n",
       "2            nan         nan 4215648.571 8278686.562  6590330.674   \n",
       "3    4906400.000 3215055.000 6809777.143 7965439.677 11046081.250   \n",
       "4            nan 4034175.556 3720989.697 4229915.000  4272964.468   \n",
       "\n",
       "거주지역            6            7  \n",
       "구매유형                            \n",
       "1     3712146.667  3864880.000  \n",
       "2    10226770.763 13513839.437  \n",
       "3    13768678.750 25451441.176  \n",
       "4     4749139.200  5138468.276  "
      ]
     },
     "execution_count": 3,
     "metadata": {},
     "output_type": "execute_result"
    }
   ],
   "source": [
    "#1. 모듈 및 데이터 탑재\n",
    "import pandas as pd\n",
    "import scipy as sp\n",
    "import numpy as np\n",
    "import pingouin as pg\n",
    "import scikit_posthocs\n",
    "df = pd.read_csv('Ashopping.csv',sep=',', encoding='CP949')\n",
    "df1=df[['총_매출액','구매유형','거주지역']]\n",
    "pd.options.display.float_format = '{:.3f}'.format\n",
    "\n",
    "#2. 이원분산분석\n",
    "print(pg.anova(dv='총_매출액', between=['구매유형','거주지역'], data=df1))\n",
    "\n",
    "#3. 사후분석\n",
    "df1['구매유형']=df1['구매유형'].astype(str)\n",
    "df1['거주지역']=df1['거주지역'].astype(str)\n",
    "print(scikit_posthocs.posthoc_scheffe(df1, val_col='총_매출액', group_col='구매유형'))\n",
    "print(scikit_posthocs.posthoc_scheffe(df1, val_col='총_매출액', group_col='거주지역'))\n",
    "\n",
    "#4. 구매유형, 거주지역별 평균 총 매출액\n",
    "pd.pivot_table(df1, index='구매유형', columns='거주지역', values='총_매출액', aggfunc=np.mean)"
   ]
  },
  {
   "cell_type": "markdown",
   "metadata": {},
   "source": [
    "## 10.4 다변량분산분석\n",
    "### 분석 시나리오\n",
    "\n",
    "A쇼핑에서는 다변량분산분석을 통해 구매유형, 거주지역에 따라 방문빈도 및 총 매출액의 차이를 검정하려 한다. 이러한 문제해결을 위해 아래와 같이 가설을 수립할 수 있다.\n",
    "\n",
    "#### H0 (귀무가설)= A쇼핑 고객의 구매유형,거주지역에 따른 방문빈도,총 매출액의 차이는 없다.\n",
    "#### H1 (연구가설)= A쇼핑 고객의 구매유형,거주지역에 따른 방문빈도,총 매출액의 차이는 있다."
   ]
  },
  {
   "cell_type": "code",
   "execution_count": 4,
   "metadata": {},
   "outputs": [
    {
     "name": "stdout",
     "output_type": "stream",
     "text": [
      "                  Multivariate linear model\n",
      "==============================================================\n",
      "                                                              \n",
      "--------------------------------------------------------------\n",
      "        Intercept        Value  Num DF  Den DF  F Value Pr > F\n",
      "--------------------------------------------------------------\n",
      "           Wilks' lambda 0.9578 2.0000 996.0000 21.9327 0.0000\n",
      "          Pillai's trace 0.0422 2.0000 996.0000 21.9327 0.0000\n",
      "  Hotelling-Lawley trace 0.0440 2.0000 996.0000 21.9327 0.0000\n",
      "     Roy's greatest root 0.0440 2.0000 996.0000 21.9327 0.0000\n",
      "--------------------------------------------------------------\n",
      "                                                              \n",
      "--------------------------------------------------------------\n",
      "          구매유형          Value  Num DF  Den DF  F Value  Pr > F\n",
      "--------------------------------------------------------------\n",
      "          Wilks' lambda 0.8248 2.0000 996.0000 105.8119 0.0000\n",
      "         Pillai's trace 0.1752 2.0000 996.0000 105.8119 0.0000\n",
      " Hotelling-Lawley trace 0.2125 2.0000 996.0000 105.8119 0.0000\n",
      "    Roy's greatest root 0.2125 2.0000 996.0000 105.8119 0.0000\n",
      "--------------------------------------------------------------\n",
      "                                                              \n",
      "--------------------------------------------------------------\n",
      "           거주지역          Value  Num DF  Den DF  F Value Pr > F\n",
      "--------------------------------------------------------------\n",
      "           Wilks' lambda 0.8672 2.0000 996.0000 76.2545 0.0000\n",
      "          Pillai's trace 0.1328 2.0000 996.0000 76.2545 0.0000\n",
      "  Hotelling-Lawley trace 0.1531 2.0000 996.0000 76.2545 0.0000\n",
      "     Roy's greatest root 0.1531 2.0000 996.0000 76.2545 0.0000\n",
      "==============================================================\n",
      "\n"
     ]
    }
   ],
   "source": [
    "#1. 모듈 및 데이터 탑재\n",
    "import pandas as pd\n",
    "from statsmodels.multivariate.manova import MANOVA\n",
    "df = pd.read_csv('Ashopping.csv',sep=',', encoding='CP949')\n",
    "df1=df[['총_매출액','방문빈도','구매유형','거주지역']]\n",
    "pd.options.display.float_format = '{:.3f}'.format\n",
    "\n",
    "#2. 다변량분산분석\n",
    "print(MANOVA.from_formula('방문빈도 + 총_매출액 ~ 구매유형 +거주지역 ', data=df1).mv_test())"
   ]
  },
  {
   "cell_type": "code",
   "execution_count": 5,
   "metadata": {},
   "outputs": [
    {
     "name": "stdout",
     "output_type": "stream",
     "text": [
      "구매유형 총매출액 사후분석 \n",
      "         1      2      3      4\n",
      "1 -1.000  0.000  0.000  0.805\n",
      "2  0.000 -1.000  0.008  0.000\n",
      "3  0.000  0.008 -1.000  0.000\n",
      "4  0.805  0.000  0.000 -1.000\n",
      "\n",
      "거주지역 총매출액 사후분석 \n",
      " "
     ]
    },
    {
     "name": "stderr",
     "output_type": "stream",
     "text": [
      "C:\\ProgramData\\Anaconda3\\lib\\site-packages\\ipykernel_launcher.py:6: SettingWithCopyWarning: \n",
      "A value is trying to be set on a copy of a slice from a DataFrame.\n",
      "Try using .loc[row_indexer,col_indexer] = value instead\n",
      "\n",
      "See the caveats in the documentation: http://pandas.pydata.org/pandas-docs/stable/user_guide/indexing.html#returning-a-view-versus-a-copy\n",
      "  \n",
      "C:\\ProgramData\\Anaconda3\\lib\\site-packages\\ipykernel_launcher.py:7: SettingWithCopyWarning: \n",
      "A value is trying to be set on a copy of a slice from a DataFrame.\n",
      "Try using .loc[row_indexer,col_indexer] = value instead\n",
      "\n",
      "See the caveats in the documentation: http://pandas.pydata.org/pandas-docs/stable/user_guide/indexing.html#returning-a-view-versus-a-copy\n",
      "  import sys\n"
     ]
    },
    {
     "name": "stdout",
     "output_type": "stream",
     "text": [
      "        1      2      3      4      5      6      7\n",
      "1 -1.000  1.000  1.000  1.000  1.000  0.988  0.412\n",
      "2  1.000 -1.000  1.000  0.980  0.965  0.339  0.000\n",
      "3  1.000  1.000 -1.000  0.978  0.935  0.019  0.000\n",
      "4  1.000  0.980  0.978 -1.000  1.000  0.008  0.000\n",
      "5  1.000  0.965  0.935  1.000 -1.000  0.002  0.000\n",
      "6  0.988  0.339  0.019  0.008  0.002 -1.000  0.000\n",
      "7  0.412  0.000  0.000  0.000  0.000  0.000 -1.000\n",
      "\n",
      "구매유형 방문빈도 사후분석 \n",
      "         1      2      3      4\n",
      "1 -1.000  0.000  0.075  0.030\n",
      "2  0.000 -1.000  0.000  0.000\n",
      "3  0.075  0.000 -1.000  0.998\n",
      "4  0.030  0.000  0.998 -1.000\n",
      "\n",
      "거주지역 방문빈도 사후분석 \n",
      "         1      2      3      4      5      6      7\n",
      "1 -1.000  1.000  1.000  0.949  0.878  0.451  0.018\n",
      "2  1.000 -1.000  0.999  0.604  0.303  0.005  0.000\n",
      "3  1.000  0.999 -1.000  0.370  0.040  0.000  0.000\n",
      "4  0.949  0.604  0.370 -1.000  0.913  0.000  0.000\n",
      "5  0.878  0.303  0.040  0.913 -1.000  0.000  0.000\n",
      "6  0.451  0.005  0.000  0.000  0.000 -1.000  0.000\n",
      "7  0.018  0.000  0.000  0.000  0.000  0.000 -1.000\n",
      "\n",
      "구매유형, 거주지역별 평균총매출액\n",
      " 거주지역           1           2           3           4            5  \\\n",
      "구매유형                                                                \n",
      "1            nan 3281350.000 3002825.000 3041428.182  3637031.667   \n",
      "2            nan         nan 4215648.571 8278686.562  6590330.674   \n",
      "3    4906400.000 3215055.000 6809777.143 7965439.677 11046081.250   \n",
      "4            nan 4034175.556 3720989.697 4229915.000  4272964.468   \n",
      "\n",
      "거주지역            6            7  \n",
      "구매유형                            \n",
      "1     3712146.667  3864880.000  \n",
      "2    10226770.763 13513839.437  \n",
      "3    13768678.750 25451441.176  \n",
      "4     4749139.200  5138468.276  \n",
      "\n",
      "구매유형, 거주지역별 평균방문빈도\n",
      " 거주지역     1      2      3      4      5      6      7\n",
      "구매유형                                                \n",
      "1      nan  8.000  8.667 10.818 10.222  9.667 10.000\n",
      "2      nan    nan 29.143 42.312 39.022 48.212 58.845\n",
      "3    7.750  5.000  7.929 11.903 15.350 20.438 40.765\n",
      "4      nan 12.778 12.485 17.277 18.000 18.768 19.966\n"
     ]
    }
   ],
   "source": [
    "#1. 패키지 불러오기\n",
    "import scikit_posthocs\n",
    "import numpy as np\n",
    "\n",
    "#2. 사후분석\n",
    "df1['구매유형']=df1['구매유형'].astype(str)\n",
    "df1['거주지역']=df1['거주지역'].astype(str)\n",
    "print('구매유형 총매출액 사후분석 \\n ',scikit_posthocs.posthoc_scheffe(df1, val_col='총_매출액', group_col='구매유형'))\n",
    "print('\\n거주지역 총매출액 사후분석 \\n ',scikit_posthocs.posthoc_scheffe(df1, val_col='총_매출액', group_col='거주지역'))\n",
    "print('\\n구매유형 방문빈도 사후분석 \\n ',scikit_posthocs.posthoc_scheffe(df1, val_col='방문빈도', group_col='구매유형'))\n",
    "print('\\n거주지역 방문빈도 사후분석 \\n ',scikit_posthocs.posthoc_scheffe(df1, val_col='방문빈도', group_col='거주지역'))\n",
    "\n",
    "#3. 구매유형, 거주지역별 평균 총매출액, 구매유형, 거주지역별 평균 방문빈도\n",
    "평균총매출액 = pd.pivot_table(df1, index='구매유형', columns='거주지역', values='총_매출액', aggfunc=np.mean)\n",
    "print('\\n구매유형, 거주지역별 평균총매출액\\n',평균총매출액)\n",
    "평균방문빈도 = pd.pivot_table(df1, index='구매유형', columns='거주지역', values='방문빈도', aggfunc=np.mean)\n",
    "print('\\n구매유형, 거주지역별 평균방문빈도\\n',평균방문빈도)"
   ]
  },
  {
   "cell_type": "code",
   "execution_count": 6,
   "metadata": {},
   "outputs": [
    {
     "data": {
      "text/plain": [
       "[<matplotlib.lines.Line2D at 0x20b3fa30208>]"
      ]
     },
     "execution_count": 6,
     "metadata": {},
     "output_type": "execute_result"
    },
    {
     "data": {
      "image/png": "[encoded data removed]",
      "text/plain": [
       "<Figure size 432x288 with 1 Axes>"
      ]
     },
     "metadata": {
      "needs_background": "light"
     },
     "output_type": "display_data"
    }
   ],
   "source": [
    "import matplotlib\n",
    "import matplotlib.pyplot as plt \n",
    "\n",
    "X = np.hstack(평균방문빈도.values[0:4])\n",
    "Y = np.hstack(평균총매출액.values[0:4])\n",
    "\n",
    "#2. 한글깨짐현상 방지 \n",
    "matplotlib.rcParams['font.family'] = 'Malgun Gothic' \n",
    "\n",
    "#3. 평균점 산점도 그리기\n",
    "labels = []\n",
    "for i in range(1,5,1):\n",
    "    for j in range(1,8,1):\n",
    "        labels.append(str(i)+str(j))\n",
    "\n",
    "for label, x_count, y_count in zip(labels, X, Y):\n",
    "    plt.annotate(label,\n",
    "xycoords='data',\n",
    "                textcoords='offset points',\n",
    "                xy=(x_count, y_count), \n",
    "                xytext=(5,-5) ) \n",
    "\n",
    "plt.title('평균점 산점도') #차트 제목\n",
    "plt.xlabel('평균 방문빈도') # X축 이름\n",
    "plt.ylabel('평균 총매출액') # Y축 이름\n",
    "plt.plot(X, Y,'o')"
   ]
  },
  {
   "cell_type": "markdown",
   "metadata": {},
   "source": [
    "## 10.5 공분산분석\n",
    "\n",
    "### 분석 시나리오\n",
    "\n",
    "앞서 거주지역별 총 매출액의 차이가 있는지 일원분산분석을 통해 검증한 적이 있다. 그러나, 총매출액에는 거주지역뿐만 아니라, 고객들의 방문빈도 역시 유의미한 변수일 수 있다. 공분산분석을 통해 방문빈도를 통제한 상태에서 거주지역별 총 매출액의 차이를 검정해보자. \n",
    "\n",
    "#### H0 (귀무가설)= 방문빈도를 통제한 상황에서 거주지역에 따른 총 매출액은 차이가 없다.\n",
    "#### H1 (연구가설)= 방문빈도를 통제한 상황에서 거주지역에 따른 총 매출액은 차이가 있다."
   ]
  },
  {
   "cell_type": "code",
   "execution_count": 7,
   "metadata": {},
   "outputs": [
    {
     "name": "stdout",
     "output_type": "stream",
     "text": [
      "공분산분석 결과\n",
      "      Source                    SS   DF       F  p-unc\n",
      "0      거주지역   696696828775916.000    6   4.046  0.001\n",
      "1      방문빈도 13701443685723456.000    1 477.393  0.000\n",
      "2  Residual 28470960342015400.000  992     nan    nan\n",
      "\n",
      "일원분산분석 결과\n",
      "   Source  ddof1  ddof2      F  p-unc   np2\n",
      "0   거주지역      6    993 24.759  0.000 0.130\n"
     ]
    }
   ],
   "source": [
    "#1. 모듈 및 데이터 탑재\n",
    "import pandas as pd\n",
    "import pingouin as pg\n",
    "\n",
    "df = pd.read_csv('Ashopping.csv',sep=',', encoding='CP949')\n",
    "df1=df[['총_매출액','방문빈도','거주지역']]\n",
    "pd.options.display.float_format = '{:.3f}'.format\n",
    "\n",
    "#2. 공분산분석\n",
    "print('공분산분석 결과\\n', pg.ancova(dv='총_매출액', between='거주지역',covar='방문빈도', data=df1))\n",
    "\n",
    "#3. 일원분산분석\n",
    "print('\\n일원분산분석 결과\\n', pg.anova(dv='총_매출액', between='거주지역', data=df1))"
   ]
  },
  {
   "cell_type": "code",
   "execution_count": null,
   "metadata": {},
   "outputs": [],
   "source": []
  }
 ],
 "metadata": {
  "kernelspec": {
   "display_name": "Python 3",
   "language": "python",
   "name": "python3"
  },
  "language_info": {
   "codemirror_mode": {
    "name": "ipython",
    "version": 3
   },
   "file_extension": ".py",
   "mimetype": "text/x-python",
   "name": "python",
   "nbconvert_exporter": "python",
   "pygments_lexer": "ipython3",
   "version": "3.7.4"
  }
 },
 "nbformat": 4,
 "nbformat_minor": 2
}
