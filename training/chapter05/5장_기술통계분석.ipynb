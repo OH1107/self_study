{
  "nbformat": 4,
  "nbformat_minor": 0,
  "metadata": {
    "colab": {
      "name": "5장_기술통계분석.ipynb",
      "provenance": [],
      "collapsed_sections": [],
      "toc_visible": true,
      "include_colab_link": true
    },
    "kernelspec": {
      "name": "python3",
      "display_name": "Python 3"
    }
  },
  "cells": [
    {
      "cell_type": "markdown",
      "metadata": {
        "id": "view-in-github",
        "colab_type": "text"
      },
      "source": [
        "<a href=\"https://colab.research.google.com/github/OH1107/statistics/blob/master/training/chapter05/5%EC%9E%A5_%EA%B8%B0%EC%88%A0%ED%86%B5%EA%B3%84%EB%B6%84%EC%84%9D.ipynb\" target=\"_parent\"><img src=\"https://colab.research.google.com/assets/colab-badge.svg\" alt=\"Open In Colab\"/></a>"
      ]
    },
    {
      "cell_type": "markdown",
      "metadata": {
        "id": "1tqx2k9yN7CD"
      },
      "source": [
        "# 5장. 기술통계분석"
      ]
    },
    {
      "cell_type": "markdown",
      "metadata": {
        "id": "uSFpznZeOtf1"
      },
      "source": [
        "## 5.1 평균, 분산, 표준편차"
      ]
    },
    {
      "cell_type": "markdown",
      "metadata": {
        "id": "Ge776z35TeDM"
      },
      "source": [
        "### [1] 개념 및 주요 이론\n",
        "- 데이터의 특성을 나타내는 지표로 가장 흔하게 사용하는 지표는 '평균'\n",
        "- 하지만 보다 명확하게 나타내기 위해서는 표준편차와 분산과 같은 통계량을 함께 고려해야 함"
      ]
    },
    {
      "cell_type": "markdown",
      "metadata": {
        "id": "KGIeKG3C1SAq"
      },
      "source": [
        "#### 평균\n",
        "- 평균(mean)이란, 자료들의 중심 성향 특징을 나타내는 대표 값\n",
        "- 사용목적에 따라 산술평균, 기하평균, 그리고 조화평균으로 구분"
      ]
    },
    {
      "cell_type": "markdown",
      "metadata": {
        "id": "PSVZAh773Bal"
      },
      "source": [
        "##### ① 산술평균\n",
        "- 일반적으로 알고 있는 평균의 개념\n",
        "- 자료들의 전체 합을 자료의 개수(또는 자유도)로 나눈 값\n",
        "- 통계분석을 통해 도출되는 평균은 대부분 산술평균  \n",
        "\n",
        "\n",
        "- ![image.png](data:image/png;base64,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)"
      ]
    },
    {
      "cell_type": "markdown",
      "metadata": {
        "id": "tF1yaubv3DqO"
      },
      "source": [
        "##### ② 기하평균\n",
        "- 자료들의 곱을 자료 수만큼 제곱근한 값\n",
        "- 예금 이자의 복리 계산 등 주로 곱셈으로  계산하는 값들의 평균을 계산하는 경우 사용\n",
        "- n개의 양수가 있을 때, 이들 수의 곱의 n제곱근의 값이 기하평균값\n",
        "- 일반적으로 산술평균보다 작다.  \n",
        "\n",
        "- ![image.png](data:image/png;base64,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) "
      ]
    },
    {
      "cell_type": "markdown",
      "metadata": {
        "id": "gDz_B5lQ5TyF"
      },
      "source": [
        "> 예제 : 당신이 투자를 했는데, 첫 해는 10%를 벌었고, 둘째 해에는 50%, 셋째 해에는 30%를 벌었다. 그 경우 3년간 당신의 평균 수익률은 얼마인가?  \n",
        "\n",
        "> 풀이 : ![기하평균계산 예시.jpg](data:image/jpeg;base64,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)"
      ]
    },
    {
      "cell_type": "markdown",
      "metadata": {
        "id": "881BLd8W1tc1"
      },
      "source": [
        "##### ③ 조화평균\n",
        "- n개의 양수에 대해 그 역수들을 산술평균하고, 이를 다시 역수로 취한 값\n",
        "- 데이터의 평균적인 변화율이나 업무능률의 평균을 구할 때 사용  \n",
        "\n",
        "- ![image.png](data:image/png;base64,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)\n"
      ]
    },
    {
      "cell_type": "markdown",
      "metadata": {
        "id": "MIvIHiBV52sf"
      },
      "source": [
        "> 예제 : 당신이 경기도 이천에서 차를 몰고 서울 강남을 다녀왔다. 갈 때는 고속도로가 막혀서 평균 속도 70km/h로 갔고 올 때는 막힘이 없어 평균속도 100km/h로 돌아왔다. 그렇다면 당신은 서울을 평균속도 얼마로 다녀왔는가?\n",
        "\n",
        "> 풀이: ![조화평균 예시.jpg](data:image/jpeg;base64,R0lGODlhcgEsALMAAP///wAAAHZ2diIiImZmZqqqqu7u7hAQELq6ukRERDIyMlRUVIiIiJiYmMzMzNzc3CH5BAEAAAAALAAAAAByASwAAAT+EMhJq704612ZIEnBjWRpnqgHimjrvq4awnRt3/gkPJIRNLmg0LTr/YbIJKAI8AGV0KjUMnBMCIOp9la9ZrfgUleCDZvPrsNzGUC7OWpd+00HxCWCeX3PlyQUfYETf4J0hIWIYA8BVol1i42OioySlUoKa5ZnmJpbnJ2gNgKZoVqjpVGnqKsnDaSsSq6wSLKzthkILACvtza5E7y9J78SwcKlDgQIywUExzjJy7nOzy3RzNTVOgMBBCIGAgMHAgiCBwHo6NnaL+fp3ewn7unr7AkJFQoL8fz97AUCPOgCIGNgBVcMFjC4EGAhhSP+IkpktWwCAxZMnFxQBaBhBQf+lCYgCMBjosmTlRYYmGCA2hgAZSwIwCfhwD4KDPTgOYCyp89AC24CKPDkDpsNGiksoDlI6M+nUMGAHLBMAIZDGRgAqnAggYCvXyFeIBC0rNkFVp+RPWs2bdQXa9kGdasprly6FB6c22oBUoYGBOoB8DsBZKS3iBMHaYkg54CSFD5paJBgJTCdBDHbeMe5s+fPoEOLRpdjtOnTqFOrVo1jtWvTNyr3UPBFh7EKWAEs4OuHqeLfwF08cNrR8q7bCyIRCGB8HFeHGOyyxZvBQAHfUKxjJyH9LPXgGrq3DSW+LPUH2JkS29U3gK4FehaVm0BYSYECvKHczw++P5LkhTn+dM00EgxnmQCWGXCAQzMFsEA54CjQzXxKPMBfhRf6pyEOHjBw0QTzqCOBAwdA1uECBrlh4RYrbujihi1OEeMUjTVADi4M2EihBAgocBgFDtCFkEK+5HgjBjUeKZKPSSS5YwVO4vTBDBYEScGQ0PU3IwnGobAlFA7wpQBkQIpZ0gMMGIbBANlw5FF1HIQ5wZgXyCkBnYOlGZIQdgKA50dm4lFSUhSwadsEb2qZ4WRPlvClElQSJBgAkTJQz55XLtAmUzYxukGlk4JaAaY5iGqBqS/FBIymOnBKHHAP1FZCA42SEOsWeyLAkwW57orojwA4kMykhF5A6wa9MhSJrqP+AntDsrwuu6tReQA57AXFAoeAAGqQycGxKGzbrRQgQQZSl8GSVBhzDwELRGAXaLUBuBiUuy669o7I7q9D5Jsuvurqiy6lvL07qbwvtlKrICOZG7BID/vb0Y9PwHulxZ7iEvHDPG5MJqk3NLyutyLr6219FdcD2KQJz7twIP6WPDLEHx8mLBmTUjbwlS+nC5nMJtPcbr8PA+2z0JGtcTNMOcv2G2wW2KWAPuYx5FoQ9RWwL317at0lpmtgjFt+UlM9VwVZb11g12qDbEPa6MJNAUfs4XzVoi1bQK8kAVBYgK8P+Q34xMAQANYACghgBYBkqH1Qzx0JzpDkQw/R9wT+f0+OOeC1FGP4V4grrptyjueNwd6OJLBGQheobhFxblNKzSLvacbzp6u/SmnuzSLhugSsn8o7j7q8ksDs7k0AX3AJkOnARVlmjNR1ARYgIPRNMoWngTxq7+3lrbeZ4ILSI+l9gSp1P+f3kL+AwPmDpQ/A++uPqAw2p4rfA/m/+fCOATTpXPkysJ9BFAMIAbwNDawHEAqRCDIMVBI44JM4m3FrHCU5UYoex4EIOrBEmLuIBAVAQdEJwYOFAaEEUFgTzqwjSAfAIPACgqLgOGA+D1jGTRywHWO1r0BbQcAOEyDEEfWwH6gznX+AYKkRDQ4DBtjZBVrUxGAtiBokQklcFJXoIgQtYXZPpEGLPlCgcYCRi2jkhwFuUsUs5oCKWLyiE9NIx2rYiEc3od8bg5hHIvaxjoDsBZHudECs1WYrskCkAgPJSEl4o3rfgYG4GsCD5wFkRCJspCZfEAEAOw==)\n"
      ]
    },
    {
      "cell_type": "markdown",
      "metadata": {
        "id": "ON22lx64f_sJ"
      },
      "source": [
        "- 기하평균과 조화평균은 특수한 경우에 주로 사용\n",
        "- 소프트웨어에서 표현되는 평규는 산술평균을 의미"
      ]
    },
    {
      "cell_type": "markdown",
      "metadata": {
        "id": "dlS2OpuI5g6f"
      },
      "source": [
        "#### 분산과 표준편차\n",
        "- 분산과 표준편차는 자료의 퍼짐 정도를 나타내는 통계량\n",
        "- **분산** : 자료들의 평균값의 차이인 편차를 제곱한 값들의 평균을 의미  \n",
        "\n",
        "- ![image.png](data:image/png;base64,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)"
      ]
    },
    {
      "cell_type": "markdown",
      "metadata": {
        "id": "ysw8METmiiCS"
      },
      "source": [
        "- **표준편차** : 분산의 제곱근한 값  \n",
        "\n",
        "- ![image.png](data:image/png;base64,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)"
      ]
    },
    {
      "cell_type": "markdown",
      "metadata": {
        "id": "Dv1UpCuui1yK"
      },
      "source": [
        "- 분산을 제곱하는 이유\n",
        "  - 단순히 편차들을 합하면 항상 0의 값을 갖기 때문\n",
        "- 표준편차에 제곱근을 하는 이유\n",
        "  - 본질적인 데이터의 산포수준보다 과장되기 때문"
      ]
    },
    {
      "cell_type": "markdown",
      "metadata": {
        "id": "Z1-jrJT26Jtd"
      },
      "source": [
        "### [2] 분석 및 해석\n",
        "- A 쇼핑은 고객에게 쿠폰으로 증정한 할인권의, 사용 횟수에 대해 평균, 분산, 표준편차를 성별에 따라 알아보고자 함\n",
        "- 성별에 따른 분포가 다르다면 성별에 따른 차별화된 할인쿠폰 제공 전략을 시행하고자 함"
      ]
    },
    {
      "cell_type": "code",
      "metadata": {
        "id": "kM4IoHpX64ZZ",
        "outputId": "d8c197e2-da72-4549-ed2b-74b3cdd657b5",
        "colab": {
          "base_uri": "https://localhost:8080/",
          "height": 34
        }
      },
      "source": [
        "from google.colab import drive\n",
        "drive.mount('/content/drive')"
      ],
      "execution_count": 1,
      "outputs": [
        {
          "output_type": "stream",
          "text": [
            "Mounted at /content/drive\n"
          ],
          "name": "stdout"
        }
      ]
    },
    {
      "cell_type": "code",
      "metadata": {
        "id": "1PCjmWaqOqD7"
      },
      "source": [
        "# 모듈 및 데이터 탑재\n",
        "import pandas as pd\n",
        "df = pd.read_csv('/content/drive/My Drive/Colab Notebooks/statistics/data/Ashopping.csv', sep=',',encoding='CP949')\n",
        "df_1=df[['할인권_사용 횟수','성별']]"
      ],
      "execution_count": 3,
      "outputs": []
    },
    {
      "cell_type": "code",
      "metadata": {
        "id": "8to8o6DnO7ng",
        "outputId": "e2836338-cc10-4a8f-9f8e-a8d9432f56bb",
        "colab": {
          "base_uri": "https://localhost:8080/",
          "height": 354
        }
      },
      "source": [
        "#성별 평균, 분산, 표준편차 구하기\n",
        "print('*평균')\n",
        "print(df_1.groupby('성별').mean())\n",
        "print('\\n')\n",
        "print('*분산')\n",
        "print(df_1.groupby('성별').var())\n",
        "print('\\n')\n",
        "print('*표준편차')\n",
        "print(df_1.groupby('성별').std())"
      ],
      "execution_count": 5,
      "outputs": [
        {
          "output_type": "stream",
          "text": [
            "*평균\n",
            "    할인권_사용 횟수\n",
            "성별           \n",
            "0   15.986577\n",
            "1   16.034078\n",
            "\n",
            "\n",
            "*분산\n",
            "    할인권_사용 횟수\n",
            "성별           \n",
            "0   69.053873\n",
            "1   69.750602\n",
            "\n",
            "\n",
            "*표준편차\n",
            "    할인권_사용 횟수\n",
            "성별           \n",
            "0    8.309866\n",
            "1    8.351683\n"
          ],
          "name": "stdout"
        }
      ]
    },
    {
      "cell_type": "markdown",
      "metadata": {
        "id": "sPEbLQCgSYLm"
      },
      "source": [
        "- 할인권 사용 횟수는 약 16회, 표준편차가 약 8.3회이다.\n",
        "- 남자(0)와 여자(1)의 패턴이 크게 차이가 나지 않는 것으로 보아, 성별에 따른 개별 마케팅은 필요하지 않다고 생각할 수 있다."
      ]
    },
    {
      "cell_type": "markdown",
      "metadata": {
        "id": "Z16hbfUgTlcE"
      },
      "source": [
        "## 5.2 왜도와 첨도\n"
      ]
    },
    {
      "cell_type": "markdown",
      "metadata": {
        "id": "MoalRgmE8Jl6"
      },
      "source": [
        "- 분산과 표준편차로 자료의 산포도를 파악할 수 있지만, 구체적인 특성까지 판단할 수 없음\n",
        "- 왜도와 첨도는 산포도의 치우침과 뾰족함을 나타냄으로서 산포도의 외형적인 특징을 설명할 수 있음"
      ]
    },
    {
      "cell_type": "markdown",
      "metadata": {
        "id": "aiwsol999Mnh"
      },
      "source": [
        "### [1] 개념 및 주요 이론"
      ]
    },
    {
      "cell_type": "markdown",
      "metadata": {
        "id": "w6ottUyK9QC-"
      },
      "source": [
        "#### 왜도"
      ]
    },
    {
      "cell_type": "markdown",
      "metadata": {
        "id": "Ka4T0XoF9UYb"
      },
      "source": [
        "- **왜도**는 자료들의 분포가 왼쪽 또는 오른쪽으로 치우쳐 있는 정도를 나타내는 통계량"
      ]
    },
    {
      "cell_type": "markdown",
      "metadata": {
        "id": "TUjfoG799dIz"
      },
      "source": [
        "![image.png](data:image/png;base64,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)"
      ]
    },
    {
      "cell_type": "markdown",
      "metadata": {
        "id": "MJdgrgzB-FJp"
      },
      "source": [
        "- 왜도 값 > 0\n",
        "  - 전체적인 분포가 왼쪽으로 치우친 오른쪽 꼬리 비대칭 분포\n",
        "- 왜도 값 < 0\n",
        "  - 전체적인 분포가 오른쪽으로 치우친 왼쪽 꼬리 비대칭 분포\n",
        "- 왜도 값 = 0\n",
        "  - 평균과 중앙값이 일치, 치우침 없이 정확히 좌우 대칭 분포"
      ]
    },
    {
      "cell_type": "markdown",
      "metadata": {
        "id": "ROojqzpd-tLA"
      },
      "source": [
        "#### 첨도"
      ]
    },
    {
      "cell_type": "markdown",
      "metadata": {
        "id": "hKeGS5OB-vvy"
      },
      "source": [
        "- **첨도**란 분포의 뾰족한 정도를 나타내는 값\n",
        "- 얼마나 평균에 집중되어 있는지 확인할 수 있는 통계량"
      ]
    },
    {
      "cell_type": "markdown",
      "metadata": {
        "id": "f9A1fJ-x-4MY"
      },
      "source": [
        "![image.png](data:image/png;base64,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)"
      ]
    },
    {
      "cell_type": "markdown",
      "metadata": {
        "id": "9FNeCTLY--k_"
      },
      "source": [
        "- 첨도 > 0\n",
        "  - 정규분포보다 뾰족한 분포의 형태\n",
        "- 첨도 < 0 \n",
        "  - 정규분포보다 완만한 구릉 모양의 분포"
      ]
    },
    {
      "cell_type": "markdown",
      "metadata": {
        "id": "9Ms554sD7VyA"
      },
      "source": [
        "### [2] 분석 및 해석\n",
        "- A 쇼핑의 서비스만족도에 대한 왜도와 첨도 알아보기"
      ]
    },
    {
      "cell_type": "code",
      "metadata": {
        "id": "CWoj19PZS15z",
        "outputId": "0267ea37-d69d-485d-9208-516962c76855",
        "colab": {
          "base_uri": "https://localhost:8080/",
          "height": 193
        }
      },
      "source": [
        "# 왜도와 첨도 출력하기\n",
        "\n",
        "print('*왜도')\n",
        "print(df.서비스_만족도.skew())\n",
        "print('\\n')\n",
        "print('첨도')\n",
        "print(df.서비스_만족도.kurt())\n",
        "print('\\n')\n",
        "print('*평균')\n",
        "print(df.서비스_만족도.mean())"
      ],
      "execution_count": null,
      "outputs": [
        {
          "output_type": "stream",
          "text": [
            "*왜도\n",
            "-0.9706614720587393\n",
            "\n",
            "\n",
            "첨도\n",
            "1.1478245800949547\n",
            "\n",
            "\n",
            "*평균\n",
            "5.544\n"
          ],
          "name": "stdout"
        }
      ]
    },
    {
      "cell_type": "code",
      "metadata": {
        "id": "VOmJ7iPaS1mI",
        "outputId": "e62d65b8-3f8a-42e5-b26e-140560697a09",
        "colab": {
          "base_uri": "https://localhost:8080/",
          "height": 296
        }
      },
      "source": [
        "#왜도와 첨도 히스토그램 그리기\n",
        "\n",
        "%matplotlib inline\n",
        "df.서비스_만족도.hist(bins=7)\n",
        "plt.xlabel('서비스 만족도')\n",
        "plt.ylabel('고객 수')"
      ],
      "execution_count": null,
      "outputs": [
        {
          "output_type": "execute_result",
          "data": {
            "text/plain": [
              "Text(0, 0.5, '고객 수')"
            ]
          },
          "metadata": {
            "tags": []
          },
          "execution_count": 19
        },
        {
          "output_type": "display_data",
          "data": {
            "image/png": "[encoded data removed]",
            "text/plain": [
              "<Figure size 432x288 with 1 Axes>"
            ]
          },
          "metadata": {
            "tags": [],
            "needs_background": "light"
          }
        }
      ]
    },
    {
      "cell_type": "markdown",
      "metadata": {
        "id": "wKX59hHyh7dK"
      },
      "source": [
        "- 왜도 값이 음수이기 때문에, 왼쪽 꼬리 비대칭 분포\n",
        "- 첨도 값은 1.148로 정규분포보다 다소 뾰족한 형태의 분포\n",
        "- 평균값(약 5.5)에 비해 높은 점수를 준 고객이 많음."
      ]
    },
    {
      "cell_type": "markdown",
      "metadata": {
        "id": "3MhGM5WlgQ--"
      },
      "source": [
        "## 5.3 기타 기술통계량\n"
      ]
    },
    {
      "cell_type": "markdown",
      "metadata": {
        "id": "oeBBoy5TAOKc"
      },
      "source": [
        "### [1] 개념 및 주요 이론"
      ]
    },
    {
      "cell_type": "markdown",
      "metadata": {
        "id": "F1iXJB7H8uQg"
      },
      "source": [
        "#### 중앙값\n",
        "- 중앙값(median)이란 자료를 크기 순서대로 늘어 놓았을 때 가장 중앙에 위치한 값을 의미\n",
        "- 자료의 대표성을 나타내는 보조적인 지표로 사용"
      ]
    },
    {
      "cell_type": "markdown",
      "metadata": {
        "id": "vYjKE8A2AucM"
      },
      "source": [
        "- 자료의 수가 홀수일 경우\n",
        "  - 중앙값은 '자료의 수' + 1을 2로 나눈 값의 순번에 위치한 값\n",
        "- 자료의 수가 짝수일 경우\n",
        "  - '자료의 수'를 2로 나눈 값의 순번에 위치한 값과 '자료의수' + 2를 나눈 값의 순번에 위치한 값 "
      ]
    },
    {
      "cell_type": "markdown",
      "metadata": {
        "id": "9pa0_OCUDtxw"
      },
      "source": [
        "#### 최빈값\n",
        "- 최빈값(mode)은 자료의 집단에서 가장 많이 관측되는 수치를 의미\n",
        "- 자료의 대표성을 나타내는 보조적인 지표로 사용"
      ]
    },
    {
      "cell_type": "markdown",
      "metadata": {
        "id": "SRQq9PXrD33-"
      },
      "source": [
        "- 최빈값은 하나의 이상 값을 가질 수 있음\n",
        "- 최빈값이 두 개일 경우 분포를 이봉분포, 세개 이상일 경우 다봉분포라고 지칭\n",
        "- 모든 자료의 값의 수가 같을 경우 최빈값은 존재하지 않음"
      ]
    },
    {
      "cell_type": "markdown",
      "metadata": {
        "id": "AkXMJJNCEZYW"
      },
      "source": [
        "#### 사분위수\n",
        "- 사분위수(quartile)는 자료들을 크기 순서로 늘어놓았을 때 누적 백분율을 4등분한 각 점에 위치한 값을 의미\n",
        "- 주로 상자그림을 그릴 때 활용"
      ]
    },
    {
      "cell_type": "markdown",
      "metadata": {
        "id": "g6x9YlJxEler"
      },
      "source": [
        "- 1사 분위수 : 누적백분율 25%\n",
        "- 2사 분위수 : 누적백분율 50% ( = 중앙값)\n",
        "- 3사 분위수 : 누적백분율 75%\n",
        "- 4사 분위수 : 누적백분율100%  \n",
        "- 분산, 표준편차와 같이 자료의 전반적인 분포의 특성을 설명해줄 뿐만 아니라, 왜도와 첨도와 같이 특정 영역에서의 집중성이나 편중성 또한 묘사"
      ]
    },
    {
      "cell_type": "markdown",
      "metadata": {
        "id": "QPWm91I-E82F"
      },
      "source": [
        "### [2] 분석 및 해석"
      ]
    },
    {
      "cell_type": "markdown",
      "metadata": {
        "id": "6TziSPah8pVA"
      },
      "source": [
        "- A쇼핑몰은 고객들에게 정기적으로 할인쿠폰을 발송하고 있다.\n",
        "- 고객들의 평균 할인쿠폰 사용량이 연간 약 16회 정도이므로 현재 발송횟수가 적절하다고 생각해왔다.\n",
        "- 하지만 사용빈도의 평균만으로는 의사결정의 신뢰성이 떨어지기 때문에, 중앙값, 최빈값 등의 통계량으로 의사결정의 타당성을 알아보고자 함."
      ]
    },
    {
      "cell_type": "code",
      "metadata": {
        "id": "dkXxRDxJQGQ7",
        "outputId": "53d90ddb-f423-4ab5-a681-d6bd08931f0f",
        "colab": {
          "base_uri": "https://localhost:8080/",
          "height": 87
        }
      },
      "source": [
        "#사분위수 구하기\n",
        "print(np.percentile(df['할인권_사용 횟수'],25))\n",
        "print(np.percentile(df['할인권_사용 횟수'],50))\n",
        "print(np.percentile(df['할인권_사용 횟수'],75))\n",
        "print(np.percentile(df['할인권_사용 횟수'],100))"
      ],
      "execution_count": null,
      "outputs": [
        {
          "output_type": "stream",
          "text": [
            "9.0\n",
            "17.0\n",
            "23.0\n",
            "30.0\n"
          ],
          "name": "stdout"
        }
      ]
    },
    {
      "cell_type": "code",
      "metadata": {
        "id": "yQJMxMtnhEwO",
        "outputId": "eeb31081-0a9f-4fc5-d1fd-6ac91c35a5bf",
        "colab": {
          "base_uri": "https://localhost:8080/",
          "height": 34
        }
      },
      "source": [
        "#최빈값 구하기\n",
        "df['할인권_사용 횟수'].value_counts().idxmax()"
      ],
      "execution_count": null,
      "outputs": [
        {
          "output_type": "execute_result",
          "data": {
            "text/plain": [
              "22"
            ]
          },
          "metadata": {
            "tags": []
          },
          "execution_count": 12
        }
      ]
    },
    {
      "cell_type": "code",
      "metadata": {
        "id": "Y17_oNcKhg8R",
        "outputId": "9f4c682d-e250-4f0e-b379-99793fe6d310",
        "colab": {
          "base_uri": "https://localhost:8080/",
          "height": 175
        }
      },
      "source": [
        "#기술통계량 출력\n",
        "df['할인권_사용 횟수'].describe()"
      ],
      "execution_count": null,
      "outputs": [
        {
          "output_type": "execute_result",
          "data": {
            "text/plain": [
              "count    1000.000000\n",
              "mean       16.027000\n",
              "std         8.341334\n",
              "min         1.000000\n",
              "25%         9.000000\n",
              "50%        17.000000\n",
              "75%        23.000000\n",
              "max        30.000000\n",
              "Name: 할인권_사용 횟수, dtype: float64"
            ]
          },
          "metadata": {
            "tags": []
          },
          "execution_count": 13
        }
      ]
    },
    {
      "cell_type": "code",
      "metadata": {
        "id": "kyeGfP2IhmL6",
        "outputId": "961af18d-611e-4486-f20c-27eb38cad242",
        "colab": {
          "base_uri": "https://localhost:8080/",
          "height": 296
        }
      },
      "source": [
        "%matplotlib inline\n",
        "df['할인권_사용 횟수'].hist(bins=30)\n",
        "plt.xlabel('할인권 사용 횟수')\n",
        "plt.ylabel('고객 수')"
      ],
      "execution_count": null,
      "outputs": [
        {
          "output_type": "execute_result",
          "data": {
            "text/plain": [
              "Text(0, 0.5, '고객 수')"
            ]
          },
          "metadata": {
            "tags": []
          },
          "execution_count": 17
        },
        {
          "output_type": "display_data",
          "data": {
            "image/png": "[encoded data removed]",
            "text/plain": [
              "<Figure size 432x288 with 1 Axes>"
            ]
          },
          "metadata": {
            "tags": [],
            "needs_background": "light"
          }
        }
      ]
    },
    {
      "cell_type": "code",
      "metadata": {
        "id": "5pwYiMmQkpIQ",
        "outputId": "4b4bdd7d-8dba-4db6-849e-4e6bd19cb476",
        "colab": {
          "base_uri": "https://localhost:8080/",
          "height": 34
        }
      },
      "source": [
        "df['할인권_사용 횟수'].value_counts().sum()"
      ],
      "execution_count": null,
      "outputs": [
        {
          "output_type": "execute_result",
          "data": {
            "text/plain": [
              "1000"
            ]
          },
          "metadata": {
            "tags": []
          },
          "execution_count": 15
        }
      ]
    },
    {
      "cell_type": "markdown",
      "metadata": {
        "id": "KiB50LSEiaYu"
      },
      "source": [
        "- 고객들의 할인권 사용 횟수의 최빈값은 22회\n",
        "- 1사분위는 9회, 2사분위는 17회(중앙값), 3사분위수는 23회로 나타남\n",
        "- 즉, 중간 수준으로 할인쿠폰을 사용하는 고객은 연 17회 사용, 연간 22회를 사용하는 고객이 가장 많다는 것을 알 수 있음\n",
        "- 전체적으로 상위고객으로 갈수록 연간 할인권 사용 횟수는 많이 높아진다는 것을 알 수 있음"
      ]
    },
    {
      "cell_type": "markdown",
      "metadata": {
        "id": "WGHp5yRi5qoH"
      },
      "source": [
        "- [reference1 - 산술,기하,조화평균](http://piramvill2.org/wp/?p=1711)\n",
        "- [reference2 - 왜도,첨도](https://rfriend.tistory.com/123)\n",
        "- [reference3 - 기타기술통계량](http://www.ssacstat.com/base/cs/cs_05.php?com_board_basic=read_form&com_board_idx=151&topmenu=5&left=5&&com_board_search_code=&com_board_search_value1=&com_board_search_value2=&com_board_page=3&)"
      ]
    }
  ]
}