{
  "nbformat": 4,
  "nbformat_minor": 0,
  "metadata": {
    "colab": {
      "name": "5장_기술통계분석.ipynb",
      "provenance": [],
      "collapsed_sections": [],
      "toc_visible": true,
      "include_colab_link": true
    },
    "kernelspec": {
      "name": "python3",
      "display_name": "Python 3"
    }
  },
  "cells": [
    {
      "cell_type": "markdown",
      "metadata": {
        "id": "view-in-github",
        "colab_type": "text"
      },
      "source": [
        "<a href=\"https://colab.research.google.com/github/OH1107/statistics/blob/master/training/chapter05/5%EC%9E%A5_%EA%B8%B0%EC%88%A0%ED%86%B5%EA%B3%84%EB%B6%84%EC%84%9D.ipynb\" target=\"_parent\"><img src=\"https://colab.research.google.com/assets/colab-badge.svg\" alt=\"Open In Colab\"/></a>"
      ]
    },
    {
      "cell_type": "markdown",
      "metadata": {
        "id": "1tqx2k9yN7CD"
      },
      "source": [
        "# 5장. 기술통계분석"
      ]
    },
    {
      "cell_type": "markdown",
      "metadata": {
        "id": "uSFpznZeOtf1"
      },
      "source": [
        "## 5.1 평균, 분산, 표준편차"
      ]
    },
    {
      "cell_type": "markdown",
      "metadata": {
        "id": "Ge776z35TeDM"
      },
      "source": [
        "### [1] 개념 및 주요 이론\n",
        "- 데이터의 특성을 나타내는 지표로 가장 흔하게 사용하는 지표는 '평균'\n",
        "- 하지만 보다 명확하게 나타내기 위해서는 표준편차와 분산과 같은 통계량을 함께 고려해야 함"
      ]
    },
    {
      "cell_type": "markdown",
      "metadata": {
        "id": "KGIeKG3C1SAq"
      },
      "source": [
        "#### 평균\n",
        "- 평균(mean)이란, 자료들의 중심 성향 특징을 나타내는 대표 값\n",
        "- 사용목적에 따라 산술평균, 기하평균, 그리고 조화평균으로 구분"
      ]
    },
    {
      "cell_type": "markdown",
      "metadata": {
        "id": "PSVZAh773Bal"
      },
      "source": [
        "##### ① 산술평균\n",
        "- 일반적으로 알고 있는 평균의 개념\n",
        "- 자료들의 전체 합을 자료의 개수(또는 자유도)로 나눈 값\n",
        "- 통계분석을 통해 도출되는 평균은 대부분 산술평균  \n",
        "\n",
        "\n",
        "- ![image.png](data:image/png;base64,iVBORw0KGgoAAAANSUhEUgAAAQwAAAAoCAYAAAALxsQHAAAGMklEQVR4Ae2bgVHrMBBEKYEaKIEaKIEaKIEaKIEaKIEaKIEaaMF/XkZr7gs7lhTHUeLNjMeSLcl3a93q7uTc3e309/PzM7y9vQ2vr6/D5+fn8PHxMby8vAxc3ykkVtsIGIE5BN7f30UMw9fX16EMeUAcc3183QgYgStC4P7+HmMeHh8fh6enp9mD+2pLe46Hh4c/RABRMI4geH5+HslD13w2AkbgShFIq/8hjChRgfCCPoks/pABIQmHxkoko6rPRsAIXDsC5BnwGMg71OgCMaS+Y7foUTAe9e/v7+qxxwFdMAJGoD8E8BjwBmoTlOQoojYxHGEsCCPkNmJTl42AEbhWBPAClMuo0aGWYGrGdlsjYAQ6RqA2n3EpVeKWrcIdvBhv4V7qjfi5u0WAEKIln7EVYOzCaJtWOzIKeQiravMwW8nt5xiBm0WgNZ+xBSBxByZ96zHmXUQckgNiya/pns9GwAishIAMMSYwVxp61WEgj+QRrTquBzMCRqASAXY/eicMPiZTeFKpnpsbga4QOOQByAWccFxMIRKJGGOrAC2hgD4IWyIp5Si0qxN3aWK4Qihi76P1DbqfEahAAKNNBlnR67SmkAzHMaKCBNIXpncqizCoS2bKSENb3T9NOvc2AkZgEgFWZa3ikw3OeHHJs+G+/sxGGTlVT3mXUbqlscaGLhiBnhBghWNS649bGGRc9VIMfrif39taD+TU6lz6bAwz6kP/1lBgTSNv0aVUZ7czAmdHIMXXo9usB2JsS3G72p7zDHHl/wspeV4kB5GNQgGRJcY7d0SyWZMwJINkKtHFbYxANwgkwzgYThQKQ4r1S5Qx1FrSEtHl8p9i9Kf0zXGD/CALxszv3VI9Em5vevUs2xRW3cnLahz/7p0b25QS574GSCQaS8CijfIG2v3JDRKdWlf1NQnj3Lj1Mj5YXyrntIRBz7JNyd6dvPogCvefEKXESKcUW/Na8ixYhasP3P5clhgKoB8EcuyIGEAYU2Pmz3D9F4HuJvmvaIedrF7JLIg5FrvEEoPAy8hX5lHqKy+0hgLyXMCGF3cL+KCTckPoQx3d1vyTXOsk71m2S5lAl1imxGKzQdCf0Kbk6CHkudTLb3numtjiTaYdsDvKeHJMSORi0cBgW2TM+7RM8p5ly/Xbst4dlmJ13P9EHFvi4WdtiED86lShqMIvEQficA1iqU06S5WWSV4qG3IxPgtPy3xtkU1hacJMav53XmqzdP+/wUKlRd5SLMNjyoqR1fPkZ9kIZ2lVnbdoyXV01OcsIC4NyqTinU+1wyg5jn3hqn5THhD9OHKPs9S7nJMNo4vGwPjHxlxLNuyEsPSYB7bUZuk+eK4lr94N5zksY5uiMuDDXmqMQhhRvKZ7Pt8eAhg0pDCnGfOjhDCm+resinGcOdmYo1EmnlPrBZ0qW5Rzi/Kp8s5hWSW7dgryTgweX0h+f64+xYz56qL6sRVhbvw9X18TW62QkAGLg8IR8I0rN/WtCaNGNs0H5lLtfDrVAPXsrc4t8pZgybvnnYMf7Vk8mGtxThx0ZCJgvFMKIxwTKXkbU0187UoR4N1qe1hlTQ7qiURG7bYkDMnDw1U+JhvtuI8+ajcKvlBgfBnUQtMubtfKK/wQXmVhRF3vmXJScLR3yGP0OiEBfd9APJaTQnD3Di8iX3G6QM9CNCPARNGEoIzRqJ7PBR6yJWHUyoZ8LHpTci8BhKHcMmHUYAl+MaRrxXQJc9/fAQJbEkYtnCxmIgvkrOl/64RRgwU4RscAR6Kmv9sagREBDFEhzHixsIALLDe4sEtxM7yD6CHECV8yyDllK3l+bZtzyhs9CjClznuP+NbK6/Y7RIAJQ7jS2xeuyZs45Nm0LY6cO3xFq6gcwxGICcIIuY1VnuFBjIARMAL7Q4BsMO4sjAq7cuaIbtr+ULHGRsAI/EFAcRqJM7ndagSRRFdN1302AkZgpwhorxmPIk/s4XXgZewUGqttBIzAHAJ82ZYnzSCL2sz73Pi+bgSMwA0hQDgysYU0fg13Q6paFSNgBE5BIGzRjcMQqui/NBNEMrZzwQgYgZ0hQP5C5CDVY4jCfV332QgYgZ0joC3VCAO7Jvp/BVut8Z7LRmBPCPwD0OihZygzpF8AAAAASUVORK5CYII=)"
      ]
    },
    {
      "cell_type": "markdown",
      "metadata": {
        "id": "tF1yaubv3DqO"
      },
      "source": [
        "##### ② 기하평균\n",
        "- 자료들의 곱을 자료 수만큼 제곱근한 값\n",
        "- 예금 이자의 복리 계산 등 주로 곱셈으로  계산하는 값들의 평균을 계산하는 경우 사용\n",
        "- n개의 양수가 있을 때, 이들 수의 곱의 n제곱근의 값이 기하평균값\n",
        "- 일반적으로 산술평균보다 작다.  \n",
        "\n",
        "- ![image.png](data:image/png;base64,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) "
      ]
    },
    {
      "cell_type": "markdown",
      "metadata": {
        "id": "881BLd8W1tc1"
      },
      "source": [
        "##### ③ 조화평균\n",
        "- n개의 양수에 대해 그 역수들을 산술평균하고, 이를 다시 역수로 취한 값\n",
        "- 데이터의 평균적인 변화율이나 업무능률의 평균을 구할 때 사용  \n",
        "\n",
        "- ![image.png](data:image/png;base64,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)\n",
        "\n",
        ">ex) 당신이 경기도 이천에서 차를 몰고 서울 강남을 다녀왔다. 갈 때는 고속도로가 막혀서 평균 속도 70km/h로 갔고 올 때는 막힘이 없어 평균속도 100km/h로 돌아왔다. 그렇다면 당신은 서울을 평균속도 얼마로 다녀왔는가?\n",
        "\n",
        "> 풀이: ![](https://drive.google.com/uc?export=view&id=1t6xKlBrv21MZVKQXG6Xzk7JhucKhmbTu)\n"
      ]
    },
    {
      "cell_type": "markdown",
      "metadata": {
        "id": "ON22lx64f_sJ"
      },
      "source": [
        "- 기하평균과 조화평균은 특수한 경우에 주로 사용\n",
        "- 소프트웨어에서 표현되는 평규는 산술평균을 의미"
      ]
    },
    {
      "cell_type": "markdown",
      "metadata": {
        "id": "dlS2OpuI5g6f"
      },
      "source": [
        "#### 분산과 표준편차\n",
        "- 분산과 표준편차는 자료의 퍼짐 정도를 나타내는 통계량\n",
        "- **분산** : 자료들의 평균값의 차이인 편차를 제곱한 값들의 평균을 의미  \n",
        "\n",
        "- ![image.png](data:image/png;base64,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)"
      ]
    },
    {
      "cell_type": "markdown",
      "metadata": {
        "id": "ysw8METmiiCS"
      },
      "source": [
        "- **표준편차** : 분산의 제곱근한 값  \n",
        "\n",
        "- ![image.png](data:image/png;base64,iVBORw0KGgoAAAANSUhEUgAAARAAAABxCAYAAAAd1fxeAAAOWElEQVR4Ae2dzbHVOhCET7GHYkEEhEAMhEAM7NkQAyGwY08IxEAIxEAK91Wb6fNkWbYlWbIluW+V6/hHljWfpNaM/HMfD/0VIfDnz5+X379/Ry1///59eTweWsRghDZQpP/cPpP3799HN4aPHz9Gp5XQSGgbbwO37/tFALx9+/bl58+fEAb9iYAIiEAaAQlIGi+lFgERcAhIQBwYWhUBEUgjIAFJ46XUIiACDgEJiANDqyIgAmkEJCBpvJRaBETAISABcWBoVQREII2ABCSNl1KLgAg4BCQgDgytioAIpBGQgKTxUmoREAGHgATEgaFVERCBNAISkDReSi0CIuAQkIA4MLQqAiKQRkACksZLqUVABBwCEhAHhlZFQATSCLx582bo1/nxsaRv37694Fsm+HgS6GAby+fPn18+ffqkTxmkNRmlFoH/Cbx69erly5cvw3air1+/TrZBLCAi3CYBfFDp+/fvw9pPO/UrAlUIjCwg8D74sSSIB8I1+yzjk+WHDx8WovI8qBUREIFtAq9fv352su2U/R2FgLDUEA+ELdx2fuWBODC0KgJJBO4wiWpzH9OHo104JjDPuRH3mNZFQAQiCNxBQGyOY+F9YD7EPiodQUpJREAEFgTuICC402JflJ/ZD9s5qco7NLME2hABEdgmUEtA0Gk5gbldgvpHYaM//+GHL/7x+qXSFURgAAKlBAR3N379+jV1VP6vmRYEZG3+A2WF7ahCpGmhrAM0J5lwNwIlBASjOW6H0uvgnEMLnRJCsTbPgbAGnoeeA7lbq5e9xQiUEBC/MC0JiF82bYuACBQkIAEpCFNZicDdCEhA7lbjslcEChKQgBSEqaxE4G4EJCB3q3HZKwIFCUhACsJUViJwNwISkLvVuOwVgYIEJCAFYSorEbgbAQnI3Wpc9opAQQI1PmlY8kEyvrPyeDzw2HlTi/9xooLVoqxEoA8C7969e/nx48fiVfcjpS8pINZJF8LBL4nhbdqjCz53yO+j4vF2vsuzJ1h8k/cIK50rAl0T6CGEsXdqZiKCctf2APCSHd6lgVCERAVl6LryVXgROEqgBwGBjfAQfI8AXshR+1PORzhlX3F/lkUv4qUQVNrhCPQiIAAf8gKuCCPgmZh40TMZrl3IIBGIItCTgPDbHr4ngjAjytjCiegVXXX9wuYoOxFIJ1BTQGq495ygdUUENtSeD1kjCxEJfS5xLT32o6wSnS1CeccQYtogk5eBzkonUENAODLXCi/8eQiISWonTie1fgZCq9iGC/Gw8q9nqCPZBMA2ti52L4LRCg0LnQQLKhqN2h2t7l6ZJQQEPDEnAL7Iz/cOsB/HXe67lbeRAPn418E1r/quKbyJ2GujPZbisIHotofA9jBj9xN79iDSBBSZQ1TQoLGe436OVjMlBOQKJlavM7GCiLj1fUW5tq6J9tbCZx63yjjCMQh6tkdqseVmjIlGxhEsduQYAWzIhl4FBLZY3c1EBINDyM6r96HNnX3b+Wqbr7w+IotksYZXgQ4RM3lnoUvTI9YZFdCzgICPjTQzEWkxLIV4aOL0jBb97xqYB0keTBiHxxQTo5d5ITHJh03Tu4Bw0HDnXbAeM4icVakQjuTGfFbhGroO6hIDQswSU7/Qg2gvxGZep3mNGCbIuMWRKqbsJdP0LiBgwbDVF5Fis/EHgaOd3T1UPogw63SITPRciClNtIAg8xgVyyp5RyeNICDAbbeMZ6FMQ6P+7UPlK7oEPBoMKva7XQSOQrGNBpNaURlvX7b7o6MICCrCJilnImLPpFxWT2iXYHxZAW5+YehBlKNAtYHiwG1pxX1tvf5GEhCGsX4oEx0HV6gseEbRbrT9m02EPFggiG7oA/t4DHnaoFmh1Ndl6dpYwn4MIGAWZZHvxkJ9eO9d3kYY4UgCAgsZyroiAhuvqn90glgvCJ3HHfxQZpQdIyg7FmvRRtW4jsGTGv+tYT8EODYqmfD4IuI2JLdyjrBExZZYjpSh1LmjCQi4WIedhTIW3pTCFp1PtAttIZgvdGizqCO37TJcR9v200cXrMGEqCPfnqP2O6ziLUYhMBKhIZn6PBvT0dHIUf5nnq5Ipa77wOKtLJOyxicNy5TsWC5+vaNebHA5lnH62VG3EjFShkItiiE6Ei/NByFjPRue1/JvLfvBCnUP7ybbfnRS1zOJjomyr9jPiTU+adiC9dZgFiJ/wbxB1FzFmodk+6PycLnDzp4EprT9ZMF2YELC3Xm/jI+TYqK8S3VzVmYIs+iYqZ6Xk74aq5C3CHurXdDL2LzLqFu4IU+U5xsrL/ftTU62bqeaH0UnK7GEbJlfabkVOueI/bwCBWR14Fg9wByWv2z8yyM33DOygKA6zfVnnTOkPaWm2XhzRz8OeGd4zFbGJydH4JP3lSpvCfspQqs64caGMa0CHebMUSimTFemyRSQK4ucdG00IKvvqSNYp07KIzcxBWS18e5kbB0xODeyc+oQh0vYzzpYFfGUcIRqdCQ2DLnFR9TaynRZhd9JQHI7cm7lsL2FJkdj8qTwhdpIaF9Mnj2lKWE/PavgwGENAiNL1B87fzCzqBz+JULllVoSLlsl6egCwklIq/sqDHcyjXsS0suEDX9tgFzzvHGzgIuXZVebufb7RlIjgoLLOysxIwsyQGdxn+zzL9brNjpHEFCEQSMLCOc/rJ1E0CifBAKwd30cRz247Zjue2g+AZ0rlCfbNt328tbUybGU/aHSoW+AbejY9Jl/HEQlbXUgAMVIFKqMYMad7QSD3BEW5+a62C1jsg52eZ2jzW21O2u30/wM6wH7cA7adej2Zmgf2jjbgP2GO01jlVbK/jWz0A6C3hovDNUGeMCGArvhCdax70gHWytYK/vZWIKQIgo5ooCQSaijRSApmgRlQdvcyhR14M7LYR3tm3ZYW5++5g5hcds48zWXf9pEW9gSLZ7Tym8J+9dsAYuQtzZ9A4IuG04GZCREo0GBsKDiUBkh4GsX7G0/7OQkLhtaig04nyNfynmtpmXMC7tyeJS2y9reZlnQ+dFu0emxuGKANu4e22vLZvMsHCptU+n8StofKFtXLALlr7cLjYuuOkQkRwhGEhB2VrDY62j1amWZMwQgp26WOe3voce9n3L8FBhMbIAd39gcCxm2GKRwrLeT8SgCgpGXHNzJyB3zTzmMUIR1VfuC8LrpskNEW/DCatu8lj+iD7JYS3Pb/Rhp2FEsfmYok8RkFAHBKA/Pw+YNkhickRica3dmemAMgdBGzrCt1WucwbxV23fL5Y5ojPtzwpgRBMQmDJsebdCZTeh36zY3gQnHJBoQk7PCptzy1jwPvOV9rBBGw6D3wSQQAgiIKyw8tvXbu4BwDijV7i0mqcfg9cSM9ggvas/NgAPKElOeVDt7SQ9Pb+/OVy+2nFbO3DCmZwHhbU4LX05j7V6Icy8x4QnE40qhc8s98rp/J2tkW4vZlhvG9CogtBflj+m8xUB7GUEQUkQB3qNcaw9iwU0MKq3OgxU0s05W6EwIY2xOIOoiPQoIJwthKycMo4wtnMiEI3muIRSCFi7aLbNDW5B4HKj6nDDmiICgwiBWCCH8CULE4DiGBR0Nx0t4CsjD4tvFPNABdEmnwvthGSBiSScrsQi0SoBuPRp17Ax8roCgI9PToUcA0WCcb2VxUSW5+u6J7vqVt2vBlF6HCcdCON2yal0EuiOQGsbkCgjEguGDeRbTqIwOFvI02PFDx2Ihm2Cd0mlRToggPSkKhv9LBrE2KJ0INE0gNYzJFRAbiScW1omm+RfzRhaMKCBrxxcneDt4uxYdGNcuuaBsWBCWUIB9oQht61ahV0na7J9AahiTIyAYnd05D4zS6GBbdxecjpkMmbdrQ534yn1md7I9OkEEmibAzso5iq3C5giIn595I6uTmpwjyRmxLeSZBOpKsQhd+0g45jPUtgg0QyAljCkhIE7nCjKI8VCCJ2qnCIjA+QRSwpijAsL5D5vjCBrL+Q9NOAbxaKcINElgcvv3wpijArLnXTB8wXWapKRCiYAILAnwlqeFF8sEtueogHD+Y827CAkMPCQ9MbhaJTogAtcTcMMYWw8W6qiA7M1/8IlN9/ZtqadSgwZppwiIQDECu2HMEQGhSJkXslZoPlsxHfdvAa+dpP0iIAIXE4gJY44ICMMT+w1ay4e0eBBl0u1P0tCvCDRMwN6HmbyQtTDmqIDgfDc88XHgGEQEwoFlK61/rrZFQASuJ7AZxhwRkOtNe0z/3sN9KrZ0meAtQfjWBLj09ZSfCDRFAI1/a6KzdwGhZ1MaOvKFMJGfBKQ0YeXXBYG9MKZ3AaldCXxQTgJSm7Tyb5nA5IWEXH0JyHa1SUC2+ejoDQjQDYdY+OZKQHwi820JyJyHtm5IYCuM6VVA8OkALjWrVAJSk67y7olAMIzpUUD43IndEl54VSUrRQJSkqby6pbAWhjTm4BANPgejfOhoWe9wCvhw2spv2uTpBKQJ1qt3JnAWhjTm4BYh56qEo/QmzBWq1oJSDW0yrhDAoswpjcBIXN7HL76A14SEBLX7+0JhMKYXgUE8yAoe+1KlYDUJqz8uyEQCmN6FRB8JoAfcca8CF/Q0xxIN81RBe2UwCyM6VFAePeF8yG8K1OjPuSB1KCqPLslwC+I0f3vUUDYqVEJEBPzrKrUid2ded75qXIRZSoCvRDww5geBQSsIYTwPGp5HwiFMGfEL6qBE7ZDrwP0UvcqpwiUIvAMY3oVkFIglI8IiEAiATeMkYAkwlNyEbg7ATeMwbdCas4h3J217BeBUQlMYYwEZNTqlV0iUJEAwxgJSEXIyloERiXgvIimEGbUSpZdIlCLAN8lkQdSi7DyFYHBCTCM0STq4BUt80SgBgGGMRKQGnSVpwgMToBhDN8pGdxcmScCTwL/AfIoYhyXCqGVAAAAAElFTkSuQmCC)"
      ]
    },
    {
      "cell_type": "markdown",
      "metadata": {
        "id": "Dv1UpCuui1yK"
      },
      "source": [
        "- 분산을 제곱하는 이유\n",
        "  - 단순히 편차들을 합하면 항상 0의 값을 갖기 때문\n",
        "- 표준편차에 제곱근을 하는 이유\n",
        "  - 본질적인 데이터의 산포수준보다 과장되기 때문"
      ]
    },
    {
      "cell_type": "markdown",
      "metadata": {
        "id": "bGcqD-OUguDK"
      },
      "source": [
        "---\n",
        "---"
      ]
    },
    {
      "cell_type": "markdown",
      "metadata": {
        "id": "9j94EX591PCw"
      },
      "source": [
        "#### 교재 예시\n",
        "- A쇼핑몰은 고객에게 쿠폰으로 증정한 할인권의, 사용 횟수에 대해 평균, 분산, 표준편차를 성별에 따라 알아보고자 함.\n",
        "- 성별에 따른 분포가 다르다면 성별에 따른 차별화된 할인쿠폰 제공 전략을 시행하고자 함."
      ]
    },
    {
      "cell_type": "code",
      "metadata": {
        "id": "1PCjmWaqOqD7",
        "outputId": "0ef20dd8-d498-4729-bc9e-1a9decd42523",
        "colab": {
          "base_uri": "https://localhost:8080/",
          "height": 195
        }
      },
      "source": [
        "df_1=df[['할인권_사용 횟수','성별']]\n",
        "df_1.head()"
      ],
      "execution_count": null,
      "outputs": [
        {
          "output_type": "execute_result",
          "data": {
            "text/html": [
              "<div>\n",
              "<style scoped>\n",
              "    .dataframe tbody tr th:only-of-type {\n",
              "        vertical-align: middle;\n",
              "    }\n",
              "\n",
              "    .dataframe tbody tr th {\n",
              "        vertical-align: top;\n",
              "    }\n",
              "\n",
              "    .dataframe thead th {\n",
              "        text-align: right;\n",
              "    }\n",
              "</style>\n",
              "<table border=\"1\" class=\"dataframe\">\n",
              "  <thead>\n",
              "    <tr style=\"text-align: right;\">\n",
              "      <th></th>\n",
              "      <th>할인권_사용 횟수</th>\n",
              "      <th>성별</th>\n",
              "    </tr>\n",
              "  </thead>\n",
              "  <tbody>\n",
              "    <tr>\n",
              "      <th>0</th>\n",
              "      <td>1</td>\n",
              "      <td>1</td>\n",
              "    </tr>\n",
              "    <tr>\n",
              "      <th>1</th>\n",
              "      <td>22</td>\n",
              "      <td>1</td>\n",
              "    </tr>\n",
              "    <tr>\n",
              "      <th>2</th>\n",
              "      <td>6</td>\n",
              "      <td>1</td>\n",
              "    </tr>\n",
              "    <tr>\n",
              "      <th>3</th>\n",
              "      <td>1</td>\n",
              "      <td>1</td>\n",
              "    </tr>\n",
              "    <tr>\n",
              "      <th>4</th>\n",
              "      <td>9</td>\n",
              "      <td>0</td>\n",
              "    </tr>\n",
              "  </tbody>\n",
              "</table>\n",
              "</div>"
            ],
            "text/plain": [
              "   할인권_사용 횟수  성별\n",
              "0          1   1\n",
              "1         22   1\n",
              "2          6   1\n",
              "3          1   1\n",
              "4          9   0"
            ]
          },
          "metadata": {
            "tags": []
          },
          "execution_count": 7
        }
      ]
    },
    {
      "cell_type": "code",
      "metadata": {
        "id": "8to8o6DnO7ng",
        "outputId": "71f3cf26-a224-4764-a613-2e42a99cd991",
        "colab": {
          "base_uri": "https://localhost:8080/",
          "height": 351
        }
      },
      "source": [
        "#성별 평균, 분산, 표준편차 구하기\n",
        "print('*평균')\n",
        "print(df_1.groupby('성별').mean())\n",
        "print('\\n')\n",
        "print('*분산')\n",
        "print(df_1.groupby('성별').var())\n",
        "print('\\n')\n",
        "print('*표준편차')\n",
        "print(df_1.groupby('성별').std())"
      ],
      "execution_count": null,
      "outputs": [
        {
          "output_type": "stream",
          "text": [
            "*평균\n",
            "    할인권_사용 횟수\n",
            "성별           \n",
            "0   15.986577\n",
            "1   16.034078\n",
            "\n",
            "\n",
            "*분산\n",
            "    할인권_사용 횟수\n",
            "성별           \n",
            "0   69.053873\n",
            "1   69.750602\n",
            "\n",
            "\n",
            "*표준편차\n",
            "    할인권_사용 횟수\n",
            "성별           \n",
            "0    8.309866\n",
            "1    8.351683\n"
          ],
          "name": "stdout"
        }
      ]
    },
    {
      "cell_type": "markdown",
      "metadata": {
        "id": "sPEbLQCgSYLm"
      },
      "source": [
        "- 할인권 사용 횟수는 약 16회, 표준편차가 약 8.3회이다.\n",
        "- 남자(0)와 여자(1)의 패턴이 크게 차이가 나지 않는 것으로 보아, 성별에 따른 개별 마케팅은 필요하지 않다고 생각할 수 있다."
      ]
    },
    {
      "cell_type": "markdown",
      "metadata": {
        "id": "Z16hbfUgTlcE"
      },
      "source": [
        "## 2) 왜도와 첨도\n",
        "- 산포도의 치우침과 뾰족함을 나타냄으로써, 산포도의 외형적인 특징을 설명하는데 도움을 준다.\n",
        "![](https://drive.google.com/uc?export=view&id=1HzVjvLAteHUt3JglJuffAxrrl4WVrLWA)\n",
        "![](https://drive.google.com/uc?export=view&id=1d78EF4ogna0wHLuy6aYi6LUj5xTPbRaF)\n"
      ]
    },
    {
      "cell_type": "markdown",
      "metadata": {
        "id": "9Ms554sD7VyA"
      },
      "source": [
        "#### 교재 예시\n",
        "- A쇼핑몰의 서비스만족도에 대한 왜도와 첨도 알아보기"
      ]
    },
    {
      "cell_type": "code",
      "metadata": {
        "id": "CWoj19PZS15z",
        "outputId": "0267ea37-d69d-485d-9208-516962c76855",
        "colab": {
          "base_uri": "https://localhost:8080/",
          "height": 193
        }
      },
      "source": [
        "print('*왜도')\n",
        "print(df.서비스_만족도.skew())\n",
        "print('\\n')\n",
        "print('첨도')\n",
        "print(df.서비스_만족도.kurt())\n",
        "print('\\n')\n",
        "print('*평균')\n",
        "print(df.서비스_만족도.mean())"
      ],
      "execution_count": null,
      "outputs": [
        {
          "output_type": "stream",
          "text": [
            "*왜도\n",
            "-0.9706614720587393\n",
            "\n",
            "\n",
            "첨도\n",
            "1.1478245800949547\n",
            "\n",
            "\n",
            "*평균\n",
            "5.544\n"
          ],
          "name": "stdout"
        }
      ]
    },
    {
      "cell_type": "code",
      "metadata": {
        "id": "VOmJ7iPaS1mI",
        "outputId": "e62d65b8-3f8a-42e5-b26e-140560697a09",
        "colab": {
          "base_uri": "https://localhost:8080/",
          "height": 296
        }
      },
      "source": [
        "#왜도와 첨도 히스토그램 그리기\n",
        "%matplotlib inline\n",
        "df.서비스_만족도.hist(bins=7)\n",
        "plt.xlabel('서비스 만족도')\n",
        "plt.ylabel('고객 수')"
      ],
      "execution_count": null,
      "outputs": [
        {
          "output_type": "execute_result",
          "data": {
            "text/plain": [
              "Text(0, 0.5, '고객 수')"
            ]
          },
          "metadata": {
            "tags": []
          },
          "execution_count": 19
        },
        {
          "output_type": "display_data",
          "data": {
            "image/png": "[encoded data removed]",
            "text/plain": [
              "<Figure size 432x288 with 1 Axes>"
            ]
          },
          "metadata": {
            "tags": [],
            "needs_background": "light"
          }
        }
      ]
    },
    {
      "cell_type": "markdown",
      "metadata": {
        "id": "wKX59hHyh7dK"
      },
      "source": [
        "- 왜도 값이 음수이기 때문에, 왼쪽 꼬리 비대칭 분포의 모양이 나왔다.\n",
        "- 평균값(약 5.5)에 비해 높은 점수를 준 고객이 많음을 볼 수 있다."
      ]
    },
    {
      "cell_type": "markdown",
      "metadata": {
        "id": "3MhGM5WlgQ--"
      },
      "source": [
        "## 3)기타 기술통계량 - 중앙값, 최빈값, 사분위수\n"
      ]
    },
    {
      "cell_type": "markdown",
      "metadata": {
        "id": "F1iXJB7H8uQg"
      },
      "source": [
        "- 중앙값: 자료들을 크기 순서대로 늘어놓았을 때 가장 중앙에 위치한 값\n",
        "- 최빈값: 자료의 집단에서 가장 많이 관측되는 수치\n",
        "\n",
        "- 사분위수: 자료의 크기를 순서로 늘어놓았을 때, 누적 백분율을 4등분한 각 점에 위치한 값\n",
        "\n",
        "![](https://drive.google.com/uc?export=view&id=16a_2D52NgoqO-MnYfTRlicMLm1CYz2Fn)\n"
      ]
    },
    {
      "cell_type": "markdown",
      "metadata": {
        "id": "6TziSPah8pVA"
      },
      "source": [
        "#### 교재 예시\n",
        "- A쇼핑몰은 고객들에게 정기적으로 할인쿠폰을 발송하고 있다. 고객들의 평균 할인쿠폰 사용량이 연간 약 16회 정도이므로 현재 발송횟수가 적절하다고 생각해왔다. 하지만 사용빈도의 평균만으로는 의사결정의 신뢰성이 떨어지기 때문에, 중앙값, 최빈값 등의 통계량으로 의사결정의 타당성을 알아보고자 함."
      ]
    },
    {
      "cell_type": "code",
      "metadata": {
        "id": "dkXxRDxJQGQ7",
        "outputId": "53d90ddb-f423-4ab5-a681-d6bd08931f0f",
        "colab": {
          "base_uri": "https://localhost:8080/",
          "height": 87
        }
      },
      "source": [
        "#사분위수 구하기\n",
        "print(np.percentile(df['할인권_사용 횟수'],25))\n",
        "print(np.percentile(df['할인권_사용 횟수'],50))\n",
        "print(np.percentile(df['할인권_사용 횟수'],75))\n",
        "print(np.percentile(df['할인권_사용 횟수'],100))"
      ],
      "execution_count": null,
      "outputs": [
        {
          "output_type": "stream",
          "text": [
            "9.0\n",
            "17.0\n",
            "23.0\n",
            "30.0\n"
          ],
          "name": "stdout"
        }
      ]
    },
    {
      "cell_type": "code",
      "metadata": {
        "id": "yQJMxMtnhEwO",
        "outputId": "eeb31081-0a9f-4fc5-d1fd-6ac91c35a5bf",
        "colab": {
          "base_uri": "https://localhost:8080/",
          "height": 34
        }
      },
      "source": [
        "#최빈값 구하기\n",
        "df['할인권_사용 횟수'].value_counts().idxmax()"
      ],
      "execution_count": null,
      "outputs": [
        {
          "output_type": "execute_result",
          "data": {
            "text/plain": [
              "22"
            ]
          },
          "metadata": {
            "tags": []
          },
          "execution_count": 12
        }
      ]
    },
    {
      "cell_type": "code",
      "metadata": {
        "id": "Y17_oNcKhg8R",
        "outputId": "9f4c682d-e250-4f0e-b379-99793fe6d310",
        "colab": {
          "base_uri": "https://localhost:8080/",
          "height": 175
        }
      },
      "source": [
        "#기술통계량 출력\n",
        "df['할인권_사용 횟수'].describe()"
      ],
      "execution_count": null,
      "outputs": [
        {
          "output_type": "execute_result",
          "data": {
            "text/plain": [
              "count    1000.000000\n",
              "mean       16.027000\n",
              "std         8.341334\n",
              "min         1.000000\n",
              "25%         9.000000\n",
              "50%        17.000000\n",
              "75%        23.000000\n",
              "max        30.000000\n",
              "Name: 할인권_사용 횟수, dtype: float64"
            ]
          },
          "metadata": {
            "tags": []
          },
          "execution_count": 13
        }
      ]
    },
    {
      "cell_type": "code",
      "metadata": {
        "id": "kyeGfP2IhmL6",
        "outputId": "961af18d-611e-4486-f20c-27eb38cad242",
        "colab": {
          "base_uri": "https://localhost:8080/",
          "height": 296
        }
      },
      "source": [
        "%matplotlib inline\n",
        "df['할인권_사용 횟수'].hist(bins=30)\n",
        "plt.xlabel('할인권 사용 횟수')\n",
        "plt.ylabel('고객 수')"
      ],
      "execution_count": null,
      "outputs": [
        {
          "output_type": "execute_result",
          "data": {
            "text/plain": [
              "Text(0, 0.5, '고객 수')"
            ]
          },
          "metadata": {
            "tags": []
          },
          "execution_count": 17
        },
        {
          "output_type": "display_data",
          "data": {
            "image/png": "[encoded data removed]",
            "text/plain": [
              "<Figure size 432x288 with 1 Axes>"
            ]
          },
          "metadata": {
            "tags": [],
            "needs_background": "light"
          }
        }
      ]
    },
    {
      "cell_type": "code",
      "metadata": {
        "id": "5pwYiMmQkpIQ",
        "outputId": "4b4bdd7d-8dba-4db6-849e-4e6bd19cb476",
        "colab": {
          "base_uri": "https://localhost:8080/",
          "height": 34
        }
      },
      "source": [
        "df['할인권_사용 횟수'].value_counts().sum()"
      ],
      "execution_count": null,
      "outputs": [
        {
          "output_type": "execute_result",
          "data": {
            "text/plain": [
              "1000"
            ]
          },
          "metadata": {
            "tags": []
          },
          "execution_count": 15
        }
      ]
    },
    {
      "cell_type": "markdown",
      "metadata": {
        "id": "KiB50LSEiaYu"
      },
      "source": [
        "- 고객들의 평균 할인쿠폰 사용량은 약 16회이다.\n",
        "- 중간 수준으로 할인쿠폰을 사용하는 고객은 연간 17회를 사용하며, 연간 22회를 사용하는 고객이 가장 많았다.\n",
        "- 상위고객으로 갈수록 연간 할인권 사용 횟수는 많이 높아진다."
      ]
    },
    {
      "cell_type": "markdown",
      "metadata": {
        "id": "WGHp5yRi5qoH"
      },
      "source": [
        "- [reference1 - 산술,기하,조화평균](http://piramvill2.org/wp/?p=1711)\n",
        "- [reference2 - 왜도,첨도](https://rfriend.tistory.com/123)\n",
        "- [reference3 - 기타기술통계량](http://www.ssacstat.com/base/cs/cs_05.php?com_board_basic=read_form&com_board_idx=151&topmenu=5&left=5&&com_board_search_code=&com_board_search_value1=&com_board_search_value2=&com_board_page=3&)"
      ]
    }
  ]
}